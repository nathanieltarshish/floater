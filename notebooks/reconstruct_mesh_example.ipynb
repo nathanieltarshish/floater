{
 "cells": [
  {
   "cell_type": "code",
   "execution_count": 50,
   "metadata": {
    "collapsed": true
   },
   "outputs": [],
   "source": [
    "from floater import generators as gen \n",
    "import numpy as np\n",
    "import matplotlib \n",
    "from matplotlib import pyplot as plt\n",
    "%matplotlib inline\n",
    "import xarray as xr\n",
    "import pandas as pd"
   ]
  },
  {
   "cell_type": "code",
   "execution_count": 68,
   "metadata": {
    "collapsed": false
   },
   "outputs": [
    {
     "data": {
      "text/plain": [
       "<matplotlib.image.AxesImage at 0x11b402850>"
      ]
     },
     "execution_count": 68,
     "metadata": {},
     "output_type": "execute_result"
    },
    {
     "data": {
      "image/png": "[encoded data removed]",
      "text/plain": [
       "<matplotlib.figure.Figure at 0x1198c0f90>"
      ]
     },
     "metadata": {},
     "output_type": "display_data"
    }
   ],
   "source": [
    "#construct an arbitrary mask\n",
    "lon = np.arange(0,10,.1)\n",
    "lat = np.arange(0,10,.1)\n",
    "land_mask = np.ones((len(lat), len(lon)), dtype='f4')\n",
    "land_mask[10:60, 20:50] = 0\n",
    "land_mask[60:80, 30:90] = 0\n",
    "plt.matshow(land_mask) #an arbitrary mask"
   ]
  },
  {
   "cell_type": "code",
   "execution_count": 54,
   "metadata": {
    "collapsed": false
   },
   "outputs": [],
   "source": [
    "model_grid = {'lon': lon, 'lat': lat, 'land_mask': land_mask}\n",
    "fs = gen.FloatSet((0,10), (0,10), dx=.1, dy=.1,model_grid=model_grid)"
   ]
  },
  {
   "cell_type": "code",
   "execution_count": 70,
   "metadata": {
    "collapsed": false
   },
   "outputs": [
    {
     "data": {
      "text/plain": [
       "<matplotlib.collections.PathCollection at 0x11c004a50>"
      ]
     },
     "execution_count": 70,
     "metadata": {},
     "output_type": "execute_result"
    },
    {
     "data": {
      "image/png": "[encoded data removed]",
      "text/plain": [
       "<matplotlib.figure.Figure at 0x11b265390>"
      ]
     },
     "metadata": {},
     "output_type": "display_data"
    }
   ],
   "source": [
    "xx,yy = fs.get_hexmesh()\n",
    "fig, axe = plt.subplots(figsize=(15,15))\n",
    "plt.scatter(xx.flatten(), yy.flatten()) #plot particle set"
   ]
  },
  {
   "cell_type": "code",
   "execution_count": 71,
   "metadata": {
    "collapsed": false
   },
   "outputs": [],
   "source": [
    "#output float file\n",
    "fs.to_mitgcm_format(mesh=hex,filename='test_floats.bin',read_binary_prec=32)\n",
    "fs.to_pickle(filename='test_floatset.pkl') #archive FloatSet"
   ]
  },
  {
   "cell_type": "code",
   "execution_count": 73,
   "metadata": {
    "collapsed": false
   },
   "outputs": [
    {
     "data": {
      "text/html": [
       "<div>\n",
       "<table border=\"1\" class=\"dataframe\">\n",
       "  <thead>\n",
       "    <tr style=\"text-align: right;\">\n",
       "      <th></th>\n",
       "      <th>lavd</th>\n",
       "      <th>npart</th>\n",
       "    </tr>\n",
       "  </thead>\n",
       "  <tbody>\n",
       "    <tr>\n",
       "      <th>0</th>\n",
       "      <td>1.0</td>\n",
       "      <td>1</td>\n",
       "    </tr>\n",
       "    <tr>\n",
       "      <th>1</th>\n",
       "      <td>1.0</td>\n",
       "      <td>2</td>\n",
       "    </tr>\n",
       "    <tr>\n",
       "      <th>2</th>\n",
       "      <td>1.0</td>\n",
       "      <td>3</td>\n",
       "    </tr>\n",
       "    <tr>\n",
       "      <th>3</th>\n",
       "      <td>1.0</td>\n",
       "      <td>4</td>\n",
       "    </tr>\n",
       "    <tr>\n",
       "      <th>4</th>\n",
       "      <td>1.0</td>\n",
       "      <td>5</td>\n",
       "    </tr>\n",
       "  </tbody>\n",
       "</table>\n",
       "</div>"
      ],
      "text/plain": [
       "   lavd  npart\n",
       "0   1.0      1\n",
       "1   1.0      2\n",
       "2   1.0      3\n",
       "3   1.0      4\n",
       "4   1.0      5"
      ]
     },
     "execution_count": 73,
     "metadata": {},
     "output_type": "execute_result"
    }
   ],
   "source": [
    "#construct fake lAVD field that would be calculated by MITgcm  \n",
    "flt_matrix = np.fromfile('test_floats.bin', dtype='>f4').reshape(-1,9)\n",
    "partial_N = int(flt_matrix[0,0]) #the total number of unmasked particles\n",
    "partial_lavd = pd.DataFrame({'npart':range(1,partial_N+1), 'lavd':np.ones(int(partial_N))})\n",
    "partial_lavd.head() #is missing the masked particles "
   ]
  },
  {
   "cell_type": "code",
   "execution_count": 76,
   "metadata": {
    "collapsed": false
   },
   "outputs": [],
   "source": [
    "#load in the original Floatset\n",
    "fs_archived = gen.FloatSet(load_path='test_floatset.pkl')\n",
    "ocean_bools = fs_archived.ocean_bools \n",
    "#ocean_bools[npart] = True, if particle at npart is unmasked\n",
    "full_N = fs_archived.Nx*fs_archived.Ny"
   ]
  },
  {
   "cell_type": "code",
   "execution_count": 77,
   "metadata": {
    "collapsed": false
   },
   "outputs": [],
   "source": [
    "#construct the full lavd series\n",
    "full_lavd = pd.DataFrame({'npart':range(1,full_N+1), 'lavd':np.zeros(int(full_N))})\n",
    "#set the unmasked lavd values to the corresponding value in partial_lavd\n",
    "full_lavd.loc[ocean_bools.astype(bool), 'lavd'] = partial_lavd.lavd.values "
   ]
  },
  {
   "cell_type": "code",
   "execution_count": 78,
   "metadata": {
    "collapsed": false
   },
   "outputs": [],
   "source": [
    "lavd_matrix = full_lavd.lavd.values.reshape(fs.Ny, fs.Nx)\n",
    "ds = xr.Dataset({'lavd': (['lat', 'lon'], lavd_matrix)},\n",
    "                 coords={'lat': (['lat'], model_grid['lat']),\n",
    "                       'lon': (['lon'],model_grid['lon'])})"
   ]
  },
  {
   "cell_type": "code",
   "execution_count": 79,
   "metadata": {
    "collapsed": false
   },
   "outputs": [
    {
     "data": {
      "text/plain": [
       "<matplotlib.collections.QuadMesh at 0x11c0d6990>"
      ]
     },
     "execution_count": 79,
     "metadata": {},
     "output_type": "execute_result"
    },
    {
     "data": {
      "image/png": "[encoded data removed]",
      "text/plain": [
       "<matplotlib.figure.Figure at 0x11c021a50>"
      ]
     },
     "metadata": {},
     "output_type": "display_data"
    }
   ],
   "source": [
    "ds.lavd.plot(cmap='inferno')"
   ]
  }
 ],
 "metadata": {
  "kernelspec": {
   "display_name": "Python 2",
   "language": "python",
   "name": "python2"
  },
  "language_info": {
   "codemirror_mode": {
    "name": "ipython",
    "version": 2
   },
   "file_extension": ".py",
   "mimetype": "text/x-python",
   "name": "python",
   "nbconvert_exporter": "python",
   "pygments_lexer": "ipython2",
   "version": "2.7.12"
  }
 },
 "nbformat": 4,
 "nbformat_minor": 0
}
